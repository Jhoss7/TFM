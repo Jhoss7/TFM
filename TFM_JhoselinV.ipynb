{
 "cells": [
  {
   "cell_type": "code",
   "execution_count": 1,
   "id": "60e5a652-ed79-40d6-85a4-c1f8d8720a2a",
   "metadata": {},
   "outputs": [],
   "source": [
    "import findspark\n",
    "findspark.init()"
   ]
  },
  {
   "cell_type": "code",
   "execution_count": 2,
   "id": "ce9ae8ec-bfee-42f8-a38c-fd4c3191a11d",
   "metadata": {},
   "outputs": [],
   "source": [
    "import pyspark\n",
    "from pyspark import SparkContext\n",
    "from pyspark.sql import SparkSession\n",
    "from pyspark.sql import SQLContext"
   ]
  },
  {
   "cell_type": "code",
   "execution_count": 3,
   "id": "57620e3d-d887-46e6-b8da-7468c965403b",
   "metadata": {},
   "outputs": [
    {
     "name": "stdout",
     "output_type": "stream",
     "text": [
      "c:\\program files\\python38\\python.exe\n"
     ]
    }
   ],
   "source": [
    "import sys\n",
    "print(sys.executable)"
   ]
  },
  {
   "cell_type": "code",
   "execution_count": 4,
   "id": "4906c263-2d36-46e3-abd0-f68e17e138b5",
   "metadata": {},
   "outputs": [],
   "source": [
    "from pyspark.sql import SparkSession\n",
    "\n",
    "# Crear una sesión de Spark\n",
    "spark = SparkSession.builder.master('local').appName('TFM').\\\n",
    "        config('spark.jars.packages',\\\n",
    "               'mysql:mysql-connector-java:8.0.27,com.datastax.spark:spark-cassandra-connector_2.12:3.3.0,org.mongodb.spark:mongo-spark-connector_2.12:3.0.1').\\\n",
    "        config(\"spark.sql.catalog.myCatalog\", \"com.datastax.spark.connector.datasource.CassandraCatalog\").\\\n",
    "        config(\"spark.sql.catalog.client.spark.cassandra.connection.host\", \"127.0.0.1\").\\\n",
    "        config(\"spark.sql.extensions\", \"com.datastax.spark.connector.CassandraSparkExtensions\").getOrCreate()"
   ]
  },
  {
   "cell_type": "markdown",
   "id": "f8b15953-f5ed-466c-bd2e-e2892b439a5d",
   "metadata": {},
   "source": [
    "## Consulta 1"
   ]
  },
  {
   "cell_type": "markdown",
   "id": "91ba70d6-3849-493c-a6c9-581dc0633f6e",
   "metadata": {},
   "source": [
    "### Consulta 1 Cassandra"
   ]
  },
  {
   "cell_type": "code",
   "execution_count": 5,
   "id": "b50c3e24-035a-4457-aae1-1d86dc5a7476",
   "metadata": {},
   "outputs": [],
   "source": [
    "query = \"SELECT COUNT(*) AS TotalRegistros FROM ( SELECT TP.EntityKey,\\\n",
    "    TP.StrategyPlanKey,e1.ScenarioName AS ScenarioName,e2.AccountName AS AccountName,e3.CurrencyName AS CurrencyName,\\\n",
    "    e4.ProductCategoryName AS ProductCategoryName,TP.Amount,TP.LoadDate\\\n",
    "    FROM FactStrategyPlan TP\\\n",
    "    LEFT JOIN dimscenario e1 ON TP.ScenarioKey = e1.ScenarioKey\\\n",
    "    LEFT JOIN dimaccount e2 ON TP.AccountKey = e2.AccountKey\\\n",
    "    LEFT JOIN dimcurrency e3 ON TP.CurrencyKey = e3.CurrencyKey\\\n",
    "    LEFT JOIN dimproductcategory e4 ON TP.ProductCategoryKey = e4.ProductCategoryKey) AS Subconsulta\"\n",
    "df_mysql = spark.read.format('jdbc').\\\n",
    "            option('url', 'jdbc:mysql://localhost:3306/spanish').\\\n",
    "            option('driver', 'com.mysql.jdbc.Driver').\\\n",
    "            option('user', 'root').\\\n",
    "            option('password', 'jepcpvmj1671E').\\\n",
    "            option('query', query).load()"
   ]
  },
  {
   "cell_type": "code",
   "execution_count": 6,
   "id": "68871a5a-2156-4292-8fdf-11b29808e35e",
   "metadata": {},
   "outputs": [
    {
     "data": {
      "text/plain": [
       "2750628"
      ]
     },
     "execution_count": 6,
     "metadata": {},
     "output_type": "execute_result"
    }
   ],
   "source": [
    "total_registros = df_mysql.select(\"TotalRegistros\").first()[0]\n",
    "total_registros"
   ]
  },
  {
   "cell_type": "markdown",
   "id": "fdec7009-3c20-415b-8590-2b1c6abdc33c",
   "metadata": {},
   "source": [
    "Se da inico a la extracion de datos de MySQL y migracion a Cassandra"
   ]
  },
  {
   "cell_type": "code",
   "execution_count": 7,
   "id": "9220904e-67d3-42e5-98f3-8e39855e6313",
   "metadata": {},
   "outputs": [
    {
     "name": "stdout",
     "output_type": "stream",
     "text": [
      "400000\n",
      "800000\n",
      "1200000\n",
      "1600000\n",
      "2000000\n",
      "2400000\n",
      "2750628\n",
      "Tiempo de ejecución: 54.67634057998657 segundos\n"
     ]
    }
   ],
   "source": [
    "import time\n",
    "# Se define el tamano de parte\n",
    "tamaño_parte = 400000\n",
    "offset = 0\n",
    "\n",
    "# Inicia la toma de tiempo\n",
    "inicio_tiempo = time.time()\n",
    "\n",
    "# Realiza la extracción en partes, recorriendo hasta realizar la migracion completa\n",
    "while offset < total_registros:\n",
    "    query = f\"SELECT TP.EntityKey,\\\n",
    "    TP.StrategyPlanKey,e1.ScenarioName AS ScenarioName,e2.AccountName AS AccountName,e3.CurrencyName AS CurrencyName,\\\n",
    "    e4.ProductCategoryName AS ProductCategoryName,TP.Amount,TP.LoadDate\\\n",
    "    FROM FactStrategyPlan TP\\\n",
    "    LEFT JOIN dimscenario e1 ON TP.ScenarioKey = e1.ScenarioKey\\\n",
    "    LEFT JOIN dimaccount e2 ON TP.AccountKey = e2.AccountKey\\\n",
    "    LEFT JOIN dimcurrency e3 ON TP.CurrencyKey = e3.CurrencyKey\\\n",
    "    LEFT JOIN dimproductcategory e4 ON TP.ProductCategoryKey = e4.ProductCategoryKey LIMIT {tamaño_parte} OFFSET {offset}\"\n",
    "    # Si es la última parte, ajusta el tamano de parte\n",
    "    if offset + tamaño_parte >= total_registros:\n",
    "        tamaño_parte = total_registros - offset\n",
    "    df_mysql = spark.read.format('jdbc').\\\n",
    "            option('url', 'jdbc:mysql://localhost:3306/spanish').\\\n",
    "            option('driver', 'com.mysql.jdbc.Driver').\\\n",
    "            option('user', 'root').\\\n",
    "            option('password', 'jepcpvmj1671E').\\\n",
    "            option('query', query).load()\n",
    "    df_mysql = df_mysql.withColumnRenamed('EntityKey', 'entitykey').withColumnRenamed('StrategyPlanKey', 'strategyplankey')\\\n",
    "    .withColumnRenamed('ScenarioName', 'scenarioname').withColumnRenamed('AccountName', 'accountname').withColumnRenamed('CurrencyName', 'currencyname')\\\n",
    "    .withColumnRenamed('ProductCategoryName', 'productcategoryname').withColumnRenamed('Amount', 'amount')\\\n",
    "    .withColumnRenamed('LoadDate', 'loaddate')\n",
    "    df_mysql.write\\\n",
    "    .format(\"org.apache.spark.sql.cassandra\")\\\n",
    "    .mode('append')\\\n",
    "    .options(table=\"tabla1\", keyspace=\"tfm_jhoselinv\")\\\n",
    "    .save()\n",
    "\n",
    "    # Actualizar, para ir la siguiente parte\n",
    "    offset += tamaño_parte\n",
    "    print(offset)\n",
    "\n",
    "# Detiene la toma de tiempo\n",
    "fin_tiempo = time.time()\n",
    "\n",
    "# Calcula el tiempo de migracion\n",
    "tiempo_ejecucion = fin_tiempo - inicio_tiempo\n",
    "\n",
    "print(f\"Tiempo de ejecución: {tiempo_ejecucion} segundos\")"
   ]
  },
  {
   "cell_type": "markdown",
   "id": "8a598faf-09e3-4068-9bbf-100e93bfddba",
   "metadata": {},
   "source": [
    "Se indican los resgitros migrados a Cassandra consulta 1"
   ]
  },
  {
   "cell_type": "code",
   "execution_count": 8,
   "id": "779b3984-6b17-4926-a12e-895b85d10d10",
   "metadata": {},
   "outputs": [
    {
     "name": "stdout",
     "output_type": "stream",
     "text": [
      "Número de registros en Cassandra: 2750628\n"
     ]
    }
   ],
   "source": [
    "df_cassandra = spark.read\\\n",
    "                .format(\"org.apache.spark.sql.cassandra\")\\\n",
    "                .options(table=\"tabla1\", keyspace=\"tfm_jhoselinv\")\\\n",
    "                .load()\n",
    "# Obtener el número de registros dela consulta realizada a Cassandra\n",
    "num_rows = df_cassandra.count()\n",
    "# Imprimir el número de registros\n",
    "print(\"Número de registros en Cassandra:\", num_rows)"
   ]
  },
  {
   "cell_type": "markdown",
   "id": "371b3775-dcf5-40ee-9fff-b159bd097b0f",
   "metadata": {},
   "source": [
    "### Consulta 1 MongoBD"
   ]
  },
  {
   "cell_type": "code",
   "execution_count": 10,
   "id": "5ccbd624-ceed-4b21-93e9-df55b990761b",
   "metadata": {},
   "outputs": [
    {
     "ename": "SyntaxError",
     "evalue": "invalid syntax (2383929491.py, line 33)",
     "output_type": "error",
     "traceback": [
      "\u001b[1;36m  Cell \u001b[1;32mIn[10], line 33\u001b[1;36m\u001b[0m\n\u001b[1;33m    .mode(\"append\")\\\u001b[0m\n\u001b[1;37m    ^\u001b[0m\n\u001b[1;31mSyntaxError\u001b[0m\u001b[1;31m:\u001b[0m invalid syntax\n"
     ]
    }
   ],
   "source": [
    "mongo_ip = \"mongodb://localhost:27017/tfm_jhoselinv.\"\n",
    "import time\n",
    "tamaño_parte = 400000\n",
    "offset = 0\n",
    "# Inicia la toma de tiempo\n",
    "inicio_tiempo = time.time()\n",
    "# Realiza la extracción en partes, recorriendo hasta realizar la migracion completa\n",
    "while offset < total_registros:\n",
    "    query = f\"SELECT TP.EntityKey,\\\n",
    "    TP.StrategyPlanKey,e1.ScenarioName AS ScenarioName,e2.AccountName AS AccountName,e3.CurrencyName AS CurrencyName,\\\n",
    "    e4.ProductCategoryName AS ProductCategoryName,TP.Amount,TP.LoadDate\\\n",
    "    FROM FactStrategyPlan TP\\\n",
    "    LEFT JOIN dimscenario e1 ON TP.ScenarioKey = e1.ScenarioKey\\\n",
    "    LEFT JOIN dimaccount e2 ON TP.AccountKey = e2.AccountKey\\\n",
    "    LEFT JOIN dimcurrency e3 ON TP.CurrencyKey = e3.CurrencyKey\\\n",
    "    LEFT JOIN dimproductcategory e4 ON TP.ProductCategoryKey = e4.ProductCategoryKey LIMIT {tamaño_parte} OFFSET {offset}\"\n",
    "    # Si es la última parte, ajusta el tamano de parte\n",
    "    if offset + tamaño_parte >= total_registros:\n",
    "        tamaño_parte = total_registros - offset\n",
    "    df_mysql = spark.read.format('jdbc').\\\n",
    "            option('url', 'jdbc:mysql://localhost:3306/spanish').\\\n",
    "            option('driver', 'com.mysql.jdbc.Driver').\\\n",
    "            option('user', 'root').\\\n",
    "            option('password', 'jepcpvmj1671E').\\\n",
    "            option('query', query).load()\n",
    "    df_mysql = df_mysql.withColumnRenamed('EntityKey', 'entitykey').withColumnRenamed('StrategyPlanKey', 'strategyplanKey')\\\n",
    "    .withColumnRenamed('ScenarioName', 'scenarioname').withColumnRenamed('AccountName', 'accountname').withColumnRenamed('CurrencyName', 'currencyname')\\\n",
    "    .withColumnRenamed('ProductCategoryName', 'productcategoryname').withColumnRenamed('Amount', 'amount')\\\n",
    "    .withColumnRenamed('LoadDate', 'loaddate')\n",
    "    df_mysql.write\\\n",
    "    .format(\"com.mongodb.spark.sql.DefaultSource\")\\\n",
    "    .option(\"uri\", mongo_ip + \"coleccion1\")#coleccion1 es la coleccion que se creara en la base de datos de MongoDB\n",
    "    .mode(\"append\")\\\n",
    "    .save()\n",
    "\n",
    "    # Actualizar el desplazamiento para la siguiente parte\n",
    "    offset += tamaño_parte\n",
    "    print(offset)\n",
    "\n",
    "# Detiene la toma de tiempo\n",
    "fin_tiempo = time.time()\n",
    "\n",
    "# Calcula el tiempo de ejecución\n",
    "tiempo_ejecucion = fin_tiempo - inicio_tiempo\n",
    "\n",
    "print(f\"Tiempo de ejecución: {tiempo_ejecucion} segundos\")"
   ]
  },
  {
   "cell_type": "code",
   "execution_count": 11,
   "id": "5f6d4405-134d-452a-8561-9a83dce4b4bf",
   "metadata": {},
   "outputs": [
    {
     "name": "stdout",
     "output_type": "stream",
     "text": [
      "Número de documentos: 0\n"
     ]
    }
   ],
   "source": [
    "mongo_ip = \"mongodb://localhost:27017/tfm_jhoselinv.\"\n",
    "num_documentos = spark.read.format(\"com.mongodb.spark.sql.DefaultSource\").option('uri',mongo_ip+\"coleccion1\").load()\n",
    "num_documentos = num_documentos.count()\n",
    "\n",
    "# Imprimir el número de documentos\n",
    "print(\"Número de documentos:\", num_documentos)"
   ]
  },
  {
   "cell_type": "markdown",
   "id": "c1dba4ce-060a-4dc3-9a1c-9c8ff4d38c51",
   "metadata": {},
   "source": [
    "# Consulta 2"
   ]
  },
  {
   "cell_type": "markdown",
   "id": "8eff619b-b08f-4936-9cba-da7d30670272",
   "metadata": {},
   "source": [
    "### Consulta 2 en Cassandra"
   ]
  },
  {
   "cell_type": "code",
   "execution_count": 12,
   "id": "14fe7ee4-dc85-4a32-8571-491216dcb71f",
   "metadata": {},
   "outputs": [],
   "source": [
    "query = \"SELECT COUNT(*) AS TotalRegistros FROM ( SELECT TP.channelKey,TP.SalesKey,e1.StoreName AS StoreName,e2.ProductName AS ProductName,\\\n",
    "    e3.PromotionName AS PromotionName,e4.CurrencyName AS CurrencyName,TP.UnitCost,TP.UnitPrice,TP.SalesQuantity,TP.ReturnQuantity,\\\n",
    "    TP.ReturnAmount,TP.DiscountQuantity,TP.DiscountAmount,TP.TotalCost,TP.SalesAmount,TP.LoadDate FROM factsales TP\\\n",
    "    LEFT JOIN dimstore e1 ON TP.StoreKey = e1.StoreKey \\\n",
    "    LEFT JOIN dimproduct e2 ON TP.ProductKey = e2.ProductKey\\\n",
    "    LEFT JOIN dimpromotion e3 ON TP.PromotionKey = e3.PromotionKey\\\n",
    "    LEFT JOIN dimcurrency e4 ON TP.CurrencyKey = e4.CurrencyKey) AS Subconsulta\"\n",
    "df_mysql = spark.read.format('jdbc').\\\n",
    "            option('url', 'jdbc:mysql://localhost:3306/spanish').\\\n",
    "            option('driver', 'com.mysql.jdbc.Driver').\\\n",
    "            option('user', 'root').\\\n",
    "            option('password', 'jepcpvmj1671E').\\\n",
    "            option('query', query).load()"
   ]
  },
  {
   "cell_type": "code",
   "execution_count": 13,
   "id": "7a8852f1-482e-4dc5-9d5e-ac69250624c5",
   "metadata": {},
   "outputs": [
    {
     "data": {
      "text/plain": [
       "3406089"
      ]
     },
     "execution_count": 13,
     "metadata": {},
     "output_type": "execute_result"
    }
   ],
   "source": [
    "total_registros = df_mysql.select(\"TotalRegistros\").first()[0]\n",
    "total_registros"
   ]
  },
  {
   "cell_type": "code",
   "execution_count": 14,
   "id": "92dcaa26-14c1-4639-90ff-e13edb74d550",
   "metadata": {},
   "outputs": [
    {
     "name": "stdout",
     "output_type": "stream",
     "text": [
      "400000\n",
      "800000\n",
      "1200000\n",
      "1600000\n",
      "2000000\n",
      "2400000\n",
      "2800000\n",
      "3200000\n",
      "3406089\n",
      "Tiempo de ejecución: 183.87224912643433 segundos\n"
     ]
    }
   ],
   "source": [
    "import time\n",
    "# Se define el tamano de parte\n",
    "tamaño_parte = 400000\n",
    "offset = 0\n",
    "\n",
    "# Inicia la toma de tiempo\n",
    "inicio_tiempo = time.time()\n",
    "\n",
    "# Realiza la extracción en partes, recorriendo hasta realizar la migracion completa\n",
    "while offset < total_registros:\n",
    "    query = f\"SELECT e0.ChannelName AS ChannelName,TP.SalesKey,e1.StoreName AS StoreName,e2.ProductName AS ProductName,\\\n",
    "    e3.PromotionName AS PromotionName,e4.CurrencyName AS CurrencyName,TP.UnitCost,TP.UnitPrice,TP.SalesQuantity,TP.ReturnQuantity,\\\n",
    "    TP.ReturnAmount,TP.DiscountQuantity,TP.DiscountAmount,TP.TotalCost,TP.SalesAmount,TP.LoadDate FROM factsales TP\\\n",
    "    LEFT JOIN dimchannel e0 ON TP.channelKey = e0.channelKey\\\n",
    "    LEFT JOIN dimstore e1 ON TP.StoreKey = e1.StoreKey \\\n",
    "    LEFT JOIN dimproduct e2 ON TP.ProductKey = e2.ProductKey\\\n",
    "    LEFT JOIN dimpromotion e3 ON TP.PromotionKey = e3.PromotionKey\\\n",
    "    LEFT JOIN dimcurrency e4 ON TP.CurrencyKey = e4.CurrencyKey LIMIT {tamaño_parte} OFFSET {offset}\"\n",
    "    # Si es la última parte, ajusta el tamano de parte\n",
    "    if offset + tamaño_parte >= total_registros:\n",
    "        tamaño_parte = total_registros - offset\n",
    "    df_mysql = spark.read.format('jdbc').\\\n",
    "            option('url', 'jdbc:mysql://localhost:3306/spanish').\\\n",
    "            option('driver', 'com.mysql.jdbc.Driver').\\\n",
    "            option('user', 'root').\\\n",
    "            option('password', 'jepcpvmj1671E').\\\n",
    "            option('query', query).load()\n",
    "    df_mysql = df_mysql.withColumnRenamed('ChannelName', 'channelname').withColumnRenamed('SalesKey', 'saleskey')\\\n",
    "    .withColumnRenamed('StoreName', 'storename').withColumnRenamed('ProductName', 'productname').withColumnRenamed('PromotionName', 'promotionname')\\\n",
    "    .withColumnRenamed('CurrencyName', 'currencyname').withColumnRenamed('UnitCost', 'unitcost')\\\n",
    "    .withColumnRenamed('UnitPrice', 'unitprice').withColumnRenamed('SalesQuantity', 'salesquantity')\\\n",
    "    .withColumnRenamed('ReturnQuantity', 'returnquantity').withColumnRenamed('ReturnAmount', 'returnamount')\\\n",
    "    .withColumnRenamed('DiscountQuantity', 'discountquantity').withColumnRenamed('DiscountAmount', 'discountamount')\\\n",
    "    .withColumnRenamed('TotalCost', 'totalcost').withColumnRenamed('SalesAmount', 'salesamount').withColumnRenamed('LoadDate', 'loaddate')\n",
    "    df_mysql.write\\\n",
    "    .format(\"org.apache.spark.sql.cassandra\")\\\n",
    "    .mode('append')\\\n",
    "    .options(table=\"tabla2\", keyspace=\"tfm_jhoselinv\")\\\n",
    "    .save()\n",
    "\n",
    "    # Actualizar el desplazamiento para la siguiente parte\n",
    "    offset += tamaño_parte\n",
    "    print(offset)\n",
    "\n",
    "# Detiene la toma de tiempo\n",
    "fin_tiempo = time.time()\n",
    "\n",
    "# Calcula el tiempo de ejecución\n",
    "tiempo_ejecucion = fin_tiempo - inicio_tiempo\n",
    "\n",
    "print(f\"Tiempo de ejecución: {tiempo_ejecucion} segundos\")"
   ]
  },
  {
   "cell_type": "code",
   "execution_count": 15,
   "id": "836c56ef-fe75-46cd-8566-c0c83768f1c7",
   "metadata": {},
   "outputs": [
    {
     "name": "stdout",
     "output_type": "stream",
     "text": [
      "Número de registros en Cassandra: 3406089\n"
     ]
    }
   ],
   "source": [
    "df_cassandra = spark.read\\\n",
    "                .format(\"org.apache.spark.sql.cassandra\")\\\n",
    "                .options(table=\"tabla2\", keyspace=\"tfm_jhoselinv\")\\\n",
    "                .load()\n",
    "# Obtener el número de registros dela consulta realizada a Cassandra\n",
    "num_rows = df_cassandra.count()\n",
    "# Imprimir el número de registros\n",
    "print(\"Número de registros en Cassandra:\", num_rows)"
   ]
  },
  {
   "cell_type": "markdown",
   "id": "b13b6925-d027-4691-a443-60bc4299ff3d",
   "metadata": {},
   "source": [
    "### Consulta 2 MongoDB"
   ]
  },
  {
   "cell_type": "code",
   "execution_count": 16,
   "id": "deab04ea-7ea1-4d93-8eaf-1b8117e024f8",
   "metadata": {},
   "outputs": [
    {
     "name": "stdout",
     "output_type": "stream",
     "text": [
      "400000\n",
      "800000\n",
      "1200000\n",
      "1600000\n",
      "2000000\n",
      "2400000\n",
      "2800000\n",
      "3200000\n",
      "3406089\n",
      "Tiempo de ejecución: 125.42827343940735 segundos\n"
     ]
    }
   ],
   "source": [
    "mongo_ip = \"mongodb://localhost:27017/tfm_jhoselinv.\"\n",
    "import time\n",
    "# Se define el tamano de parte\n",
    "tamaño_parte = 400000\n",
    "offset = 0\n",
    "\n",
    "# Inicia la toma de tiempo\n",
    "inicio_tiempo = time.time()\n",
    "\n",
    "# Realiza la extracción en partes, recorriendo hasta realizar la migracion completa\n",
    "while offset < total_registros:\n",
    "    query = f\"SELECT e0.ChannelName AS ChannelName,TP.SalesKey,e1.StoreName AS StoreName,e2.ProductName AS ProductName,\\\n",
    "    e3.PromotionName AS PromotionName,e4.CurrencyName AS CurrencyName,TP.UnitCost,TP.UnitPrice,TP.SalesQuantity,TP.ReturnQuantity,\\\n",
    "    TP.ReturnAmount,TP.DiscountQuantity,TP.DiscountAmount,TP.TotalCost,TP.SalesAmount,TP.LoadDate FROM factsales TP\\\n",
    "    LEFT JOIN dimchannel e0 ON TP.channelKey = e0.channelKey\\\n",
    "    LEFT JOIN dimstore e1 ON TP.StoreKey = e1.StoreKey \\\n",
    "    LEFT JOIN dimproduct e2 ON TP.ProductKey = e2.ProductKey\\\n",
    "    LEFT JOIN dimpromotion e3 ON TP.PromotionKey = e3.PromotionKey\\\n",
    "    LEFT JOIN dimcurrency e4 ON TP.CurrencyKey = e4.CurrencyKey LIMIT {tamaño_parte} OFFSET {offset}\"\n",
    "    # Si es la última parte, ajusta el tamano de parte\n",
    "    if offset + tamaño_parte >= total_registros:\n",
    "        tamaño_parte = total_registros - offset\n",
    "    df_mysql = spark.read.format('jdbc').\\\n",
    "            option('url', 'jdbc:mysql://localhost:3306/spanish').\\\n",
    "            option('driver', 'com.mysql.jdbc.Driver').\\\n",
    "            option('user', 'root').\\\n",
    "            option('password', 'jepcpvmj1671E').\\\n",
    "            option('query', query).load()\n",
    "    df_mysql = df_mysql.withColumnRenamed('ChannelName', 'channelname').withColumnRenamed('SalesKey', 'saleskey')\\\n",
    "    .withColumnRenamed('StoreName', 'storename').withColumnRenamed('ProductName', 'productname').withColumnRenamed('PromotionName', 'promotionname')\\\n",
    "    .withColumnRenamed('CurrencyName', 'currencyname').withColumnRenamed('UnitCost', 'unitcost')\\\n",
    "    .withColumnRenamed('UnitPrice', 'unitprice').withColumnRenamed('SalesQuantity', 'salesquantity')\\\n",
    "    .withColumnRenamed('ReturnQuantity', 'returnquantity').withColumnRenamed('ReturnAmount', 'returnamount')\\\n",
    "    .withColumnRenamed('DiscountQuantity', 'discountquantity').withColumnRenamed('DiscountAmount', 'discountamount')\\\n",
    "    .withColumnRenamed('TotalCost', 'totalcost').withColumnRenamed('SalesAmount', 'salesamount').withColumnRenamed('LoadDate', 'loaddate')\n",
    "    df_mysql.write\\\n",
    "    .format(\"com.mongodb.spark.sql.DefaultSource\")\\\n",
    "    .option(\"uri\", mongo_ip + \"coleccion2\")\\\n",
    "    .mode(\"append\")\\\n",
    "    .save()\n",
    "\n",
    "    # Actualizar el desplazamiento para la siguiente parte\n",
    "    offset += tamaño_parte\n",
    "    print(offset)\n",
    "\n",
    "# Detiene la toma de tiempo\n",
    "fin_tiempo = time.time()\n",
    "\n",
    "# Calcula el tiempo de ejecución\n",
    "tiempo_ejecucion = fin_tiempo - inicio_tiempo\n",
    "\n",
    "print(f\"Tiempo de ejecución: {tiempo_ejecucion} segundos\")"
   ]
  },
  {
   "cell_type": "code",
   "execution_count": 17,
   "id": "a06fa729-be8a-401b-8b48-6008b083ce40",
   "metadata": {},
   "outputs": [
    {
     "name": "stdout",
     "output_type": "stream",
     "text": [
      "Número de documentos: 3406089\n"
     ]
    }
   ],
   "source": [
    "mongo_ip = \"mongodb://localhost:27017/tfm_jhoselinv.\"\n",
    "num_documentos = spark.read.format(\"com.mongodb.spark.sql.DefaultSource\").option('uri',mongo_ip+\"coleccion2\").load()\n",
    "num_documentos = num_documentos.count()\n",
    "\n",
    "# Imprimir el número de documentos\n",
    "print(\"Número de documentos:\", num_documentos)"
   ]
  },
  {
   "cell_type": "markdown",
   "id": "eac1668a-5ecf-42ae-b4b2-52638e618b5a",
   "metadata": {},
   "source": [
    "## Consulta 3"
   ]
  },
  {
   "cell_type": "markdown",
   "id": "a126a1f6-e9e8-47e2-9885-a303f7a3d294",
   "metadata": {},
   "source": [
    "### Consulta 3 Cassandra"
   ]
  },
  {
   "cell_type": "code",
   "execution_count": 18,
   "id": "3355c720-64d1-47e9-83c7-071c8c6c8919",
   "metadata": {},
   "outputs": [],
   "source": [
    "query = \"SELECT COUNT(*) AS TotalRegistros FROM (SELECT e1.StoreType AS StoreType,TP.InventoryKey,e2.FullDateLabel AS FullDateLabel,\\\n",
    "        e3.ProductName AS ProductName,e4.CurrencyName AS CurrencyName,TP.OnHandQuantity, TP.OnOrderQuantity,\\\n",
    "        TP.SafetyStockQuantity, TP.UnitCost, TP.DaysInStock, TP.MaxDayInStock, TP.Aging FROM factinventory TP\\\n",
    "        LEFT JOIN dimstore e1 ON TP.StoreKey = e1.StoreKey\\\n",
    "        LEFT JOIN dimdate e2 ON TP.DateKey = e2.DateKey\\\n",
    "        LEFT JOIN dimproduct e3 ON TP.ProductKey = e3.ProductKey\\\n",
    "        LEFT JOIN dimcurrency e4 ON TP.CurrencyKey = e4.CurrencyKey) AS Subconsulta\"\n",
    "df_mysql = spark.read.format('jdbc').\\\n",
    "            option('url', 'jdbc:mysql://localhost:3306/spanish').\\\n",
    "            option('driver', 'com.mysql.jdbc.Driver').\\\n",
    "            option('user', 'root').\\\n",
    "            option('password', 'jepcpvmj1671E').\\\n",
    "            option('query', query).load()"
   ]
  },
  {
   "cell_type": "code",
   "execution_count": 19,
   "id": "1e6f6686-fad6-4f88-9f82-5c4f0de10251",
   "metadata": {},
   "outputs": [
    {
     "data": {
      "text/plain": [
       "8013099"
      ]
     },
     "execution_count": 19,
     "metadata": {},
     "output_type": "execute_result"
    }
   ],
   "source": [
    "total_registros = df_mysql.select(\"TotalRegistros\").first()[0]\n",
    "total_registros"
   ]
  },
  {
   "cell_type": "code",
   "execution_count": 20,
   "id": "a5be5611-7332-49b9-bf09-6b1ad7e702d3",
   "metadata": {},
   "outputs": [
    {
     "name": "stdout",
     "output_type": "stream",
     "text": [
      "400000\n",
      "800000\n",
      "1200000\n",
      "1600000\n",
      "2000000\n",
      "2400000\n",
      "2800000\n",
      "3200000\n",
      "3600000\n",
      "4000000\n",
      "4400000\n",
      "4800000\n",
      "5200000\n",
      "5600000\n",
      "6000000\n",
      "6400000\n",
      "6800000\n",
      "7200000\n",
      "7600000\n",
      "8000000\n",
      "8013099\n",
      "Tiempo de ejecución: 447.4105124473572 segundos\n"
     ]
    }
   ],
   "source": [
    "import time\n",
    "# Se define el tamano de parte \n",
    "tamaño_parte = 400000\n",
    "offset = 0\n",
    "\n",
    "# Inicia la toma de tiempo de tiempo\n",
    "inicio_tiempo = time.time()\n",
    "\n",
    "# Realiza la extracción en partes, recorriendo hasta realizar la migracion completa\n",
    "while offset < total_registros:\n",
    "    query = f\"SELECT e1.StoreType AS StoreType,TP.InventoryKey,e2.FullDateLabel AS FullDateLabel,\\\n",
    "        e3.ProductName AS ProductName,e4.CurrencyName AS CurrencyName,TP.OnHandQuantity, TP.OnOrderQuantity,\\\n",
    "        TP.SafetyStockQuantity, TP.UnitCost, TP.DaysInStock, TP.MaxDayInStock, TP.Aging FROM factinventory TP\\\n",
    "        LEFT JOIN dimstore e1 ON TP.StoreKey = e1.StoreKey\\\n",
    "        LEFT JOIN dimdate e2 ON TP.DateKey = e2.DateKey\\\n",
    "        LEFT JOIN dimproduct e3 ON TP.ProductKey = e3.ProductKey\\\n",
    "        LEFT JOIN dimcurrency e4 ON TP.CurrencyKey = e4.CurrencyKey LIMIT {tamaño_parte} OFFSET {offset}\"\n",
    "    # Si es la última parte, ajusta el límite\n",
    "    if offset + tamaño_parte >= total_registros:\n",
    "        tamaño_parte = total_registros - offset\n",
    "    df_mysql = spark.read.format('jdbc').\\\n",
    "            option('url', 'jdbc:mysql://localhost:3306/spanish').\\\n",
    "            option('driver', 'com.mysql.jdbc.Driver').\\\n",
    "            option('user', 'root').\\\n",
    "            option('password', 'jepcpvmj1671E').\\\n",
    "            option('query', query).load()\n",
    "    df_mysql = df_mysql.withColumnRenamed('InventoryKey', 'inventorykey').withColumnRenamed('FullDateLabel', 'fulldatelabel')\\\n",
    "    .withColumnRenamed('StoreType', 'storetype').withColumnRenamed('ProductName', 'productname').withColumnRenamed('CurrencyName', 'currencyname')\\\n",
    "    .withColumnRenamed('OnHandQuantity', 'onhandquantity').withColumnRenamed('OnOrderQuantity', 'onorderquantity')\\\n",
    "    .withColumnRenamed('SafetyStockQuantity', 'safetystockquantity').withColumnRenamed('UnitCost', 'unitcost')\\\n",
    "    .withColumnRenamed('DaysInStock', 'daysinstock').withColumnRenamed('MaxDayInStock', 'maxdayinstock').withColumnRenamed('Aging', 'aging')\n",
    "    df_mysql.write\\\n",
    "    .format(\"org.apache.spark.sql.cassandra\")\\\n",
    "    .mode('append')\\\n",
    "    .options(table=\"tabla3\", keyspace=\"tfm_jhoselinv\")\\\n",
    "    .save()\n",
    "\n",
    "    # Actualizar el desplazamiento para la siguiente parte\n",
    "    offset += tamaño_parte\n",
    "    print(offset)\n",
    "\n",
    "# Detiene la toma de tiempo\n",
    "fin_tiempo = time.time()\n",
    "\n",
    "# Calcula el tiempo de ejecución\n",
    "tiempo_ejecucion = fin_tiempo - inicio_tiempo\n",
    "\n",
    "print(f\"Tiempo de ejecución: {tiempo_ejecucion} segundos\")"
   ]
  },
  {
   "cell_type": "code",
   "execution_count": 21,
   "id": "3d73d473-678b-42d5-8100-9bd076af0d9f",
   "metadata": {},
   "outputs": [
    {
     "name": "stdout",
     "output_type": "stream",
     "text": [
      "Número de registros en Cassandra: 3406089\n"
     ]
    }
   ],
   "source": [
    "df_cassandra = spark.read\\\n",
    "                .format(\"org.apache.spark.sql.cassandra\")\\\n",
    "                .options(table=\"tabla2\", keyspace=\"tfm_jhoselinv\")\\\n",
    "                .load()\n",
    "# Obtener el número de registros dela consulta realizada a Cassandra\n",
    "num_rows = df_cassandra.count()\n",
    "# Imprimir el número de registros\n",
    "print(\"Número de registros en Cassandra:\", num_rows)"
   ]
  },
  {
   "cell_type": "markdown",
   "id": "3567a24f-98b2-4b12-9184-b4eef655c717",
   "metadata": {},
   "source": [
    "### Consulta 3 MongoDB"
   ]
  },
  {
   "cell_type": "code",
   "execution_count": 22,
   "id": "99a42fcb-c3b5-433c-88f6-afccbb5951b7",
   "metadata": {},
   "outputs": [
    {
     "name": "stdout",
     "output_type": "stream",
     "text": [
      "400000\n",
      "800000\n",
      "1200000\n",
      "1600000\n",
      "2000000\n",
      "2400000\n",
      "2800000\n",
      "3200000\n",
      "3600000\n",
      "4000000\n",
      "4400000\n",
      "4800000\n",
      "5200000\n",
      "5600000\n",
      "6000000\n",
      "6400000\n",
      "6800000\n",
      "7200000\n",
      "7600000\n",
      "8000000\n",
      "8013099\n",
      "Tiempo de ejecución: 393.1144061088562 segundos\n"
     ]
    }
   ],
   "source": [
    "mongo_ip = \"mongodb://localhost:27017/tfm_jhoselinv.\"\n",
    "import time \n",
    "# se define el tamano de parte\n",
    "tamaño_parte = 400000\n",
    "offset = 0\n",
    "\n",
    "# Inicia la toma de tiempo\n",
    "inicio_tiempo = time.time()\n",
    "\n",
    "# Realiza la extracción en partes, recorriendo hasta realizar la migracion completa\n",
    "while offset < total_registros:\n",
    "    query = f\"SELECT e1.StoreType AS StoreType,TP.InventoryKey,e2.FullDateLabel AS FullDateLabel,\\\n",
    "        e3.ProductName AS ProductName,e4.CurrencyName AS CurrencyName,TP.OnHandQuantity, TP.OnOrderQuantity,\\\n",
    "        TP.SafetyStockQuantity, TP.UnitCost, TP.DaysInStock, TP.MaxDayInStock, TP.Aging FROM factinventory TP\\\n",
    "        LEFT JOIN dimstore e1 ON TP.StoreKey = e1.StoreKey\\\n",
    "        LEFT JOIN dimdate e2 ON TP.DateKey = e2.DateKey\\\n",
    "        LEFT JOIN dimproduct e3 ON TP.ProductKey = e3.ProductKey\\\n",
    "        LEFT JOIN dimcurrency e4 ON TP.CurrencyKey = e4.CurrencyKey  LIMIT {tamaño_parte} OFFSET {offset}\"\n",
    "    # Si es la última parte, ajusta el tamano de parte\n",
    "    if offset + tamaño_parte >= total_registros:\n",
    "        tamaño_parte = total_registros - offset\n",
    "    df_mysql = spark.read.format('jdbc').\\\n",
    "            option('url', 'jdbc:mysql://localhost:3306/spanish').\\\n",
    "            option('driver', 'com.mysql.jdbc.Driver').\\\n",
    "            option('user', 'root').\\\n",
    "            option('password', 'jepcpvmj1671E').\\\n",
    "            option('query', query).load()\n",
    "    df_mysql = df_mysql.withColumnRenamed('InventoryKey', 'inventorykey').withColumnRenamed('FullDateLabel', 'fulldatelabel')\\\n",
    "    .withColumnRenamed('StoreType', 'storetype').withColumnRenamed('ProductName', 'productname').withColumnRenamed('CurrencyName', 'currencyname')\\\n",
    "    .withColumnRenamed('OnHandQuantity', 'onhandquantity').withColumnRenamed('OnOrderQuantity', 'onorderquantity')\\\n",
    "    .withColumnRenamed('SafetyStockQuantity', 'safetystockquantity').withColumnRenamed('UnitCost', 'unitcost')\\\n",
    "    .withColumnRenamed('DaysInStock', 'daysinstock').withColumnRenamed('MaxDayInStock', 'maxdayinstock').withColumnRenamed('Aging', 'aging')\n",
    "    df_mysql.write\\\n",
    "    .format(\"com.mongodb.spark.sql.DefaultSource\")\\\n",
    "    .option(\"uri\", mongo_ip + \"coleccion3\")\\\n",
    "    .mode(\"append\")\\\n",
    "    .save()\n",
    "\n",
    "    # Actualizar el desplazamiento para la siguiente parte\n",
    "    offset += tamaño_parte\n",
    "    print(offset)\n",
    "\n",
    "# Detiene la toma de tiempo\n",
    "fin_tiempo = time.time()\n",
    "\n",
    "# Calcula el tiempo de ejecución\n",
    "tiempo_ejecucion = fin_tiempo - inicio_tiempo\n",
    "\n",
    "print(f\"Tiempo de ejecución: {tiempo_ejecucion} segundos\")"
   ]
  },
  {
   "cell_type": "code",
   "execution_count": 23,
   "id": "9931798e-64cc-478a-93d1-99c03f088c67",
   "metadata": {},
   "outputs": [
    {
     "name": "stdout",
     "output_type": "stream",
     "text": [
      "Número de documentos: 8013099\n"
     ]
    }
   ],
   "source": [
    "mongo_ip = \"mongodb://localhost:27017/tfm_jhoselinv.\"\n",
    "num_documentos = spark.read.format(\"com.mongodb.spark.sql.DefaultSource\").option('uri',mongo_ip+\"coleccion3\").load()\n",
    "num_documentos = num_documentos.count()\n",
    "\n",
    "# Imprimir el número de documentos\n",
    "print(\"Número de documentos:\", num_documentos)"
   ]
  },
  {
   "cell_type": "code",
   "execution_count": null,
   "id": "94c97faf-409d-4253-9edd-f7efbc923692",
   "metadata": {},
   "outputs": [],
   "source": []
  },
  {
   "cell_type": "code",
   "execution_count": null,
   "id": "f1e0b408-b75a-47de-a0d9-40b84c5d773e",
   "metadata": {},
   "outputs": [],
   "source": []
  }
 ],
 "metadata": {
  "kernelspec": {
   "display_name": "Python 3 (ipykernel)",
   "language": "python",
   "name": "python3"
  },
  "language_info": {
   "codemirror_mode": {
    "name": "ipython",
    "version": 3
   },
   "file_extension": ".py",
   "mimetype": "text/x-python",
   "name": "python",
   "nbconvert_exporter": "python",
   "pygments_lexer": "ipython3",
   "version": "3.8.2"
  }
 },
 "nbformat": 4,
 "nbformat_minor": 5
}
